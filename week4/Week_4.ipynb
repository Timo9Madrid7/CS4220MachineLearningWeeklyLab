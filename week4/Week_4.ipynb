{
 "cells": [
  {
   "cell_type": "markdown",
   "metadata": {},
   "source": [
    "# Support Vector Machine For 2-class Linear Separable Question"
   ]
  },
  {
   "cell_type": "markdown",
   "metadata": {},
   "source": [
    "## Decision Boundary\n",
    "\n",
    "for the positive class: $$w^TX + b \\geq 0$$\n",
    "for the negative class: $$w^TX + b < 0$$\n",
    "\n",
    "Problem? There many solutions, and which one should be chosen?"
   ]
  },
  {
   "cell_type": "markdown",
   "metadata": {},
   "source": [
    "## Idea of SVM\n",
    "\n",
    "Core Idea: Find the decision boundary, while maximize the <b>margin</b>\n",
    "\n",
    "Then it will have two boundary, upper boundary and lower boundary\n",
    "\n",
    "for the upper boundary: $$w^TX+b \\geq 1$$\n",
    "for the lower boundary: $$w^TX+b < 1$$\n",
    "They can be merged into one: $$(w^TX+b)^TY \\geq 1$$\n",
    "\n",
    "Then, we have three areas. The negative class is below or on the lower boundary, whereas the positive class is higher or on the upper boundary. And there is an area without any samples (this area should be maximize). The samples on the boundary are called <b>support vector</b>"
   ]
  },
  {
   "cell_type": "markdown",
   "metadata": {},
   "source": [
    "## The Distance Between Two Planes/Lines\n",
    "\n",
    "The distance between the marginal boundary and the decision boundary: $$\\frac{|b-(b-1)|}{\\sqrt{||w||^2}} = \\frac{1}{||w||}$$\n",
    "The distance between the margins: $$\\frac{2}{||w||}$$\n",
    "maximize the above <==> minimize the following: $$\\frac{1}{2}||w||^2$$"
   ]
  },
  {
   "cell_type": "markdown",
   "metadata": {},
   "source": [
    "## Task\n",
    "What we want to do now is finding a decision boundary which owns the largest distance of margins:\n",
    "$$min_{w} \\frac{1}{2}||w||^2 \\ subject \\ to \\ (w^TX+b)^TY \\geq 1$$"
   ]
  },
  {
   "cell_type": "markdown",
   "metadata": {},
   "source": [
    "## Derivative Task by \"Lagrange Multiplier\"\n",
    "\n",
    "Minimize:\n",
    "$$\\ell(w,b,a)=\\frac{1}{2}||w||^2 - \\sum_i a_i(y_i(w^Tx_i+b)-1)$$\n",
    "\n",
    "Solve:\n",
    "$$\\frac{\\partial \\ell(w,b,a)}{\\partial w}=0 \\to w = \\sum_i^l a_iy_ix_i, \\ x_i \\in {SV}$$\n",
    "\n",
    "$l$ is the number of support vectors (note: sometimes, you may see $n$ instead of $l$, because $a_i=0$ for the samples not on the marginal boundaries)\n",
    "\n",
    "$a_i$ is the lagrange multipliers"
   ]
  },
  {
   "cell_type": "markdown",
   "metadata": {},
   "source": [
    "## VC Dimension and Bounding True Error\n",
    "\n",
    "VC dimension: https://www.zhihu.com/question/23418822\n",
    "\n",
    "VC for SVC: $$h\\leq min(\\frac{R^2}{\\rho^2},p)+1$$\n",
    "\n",
    "Bounding True Error: silde 31,week4_a, TU Delft CS4220"
   ]
  },
  {
   "cell_type": "markdown",
   "metadata": {},
   "source": [
    "## Error Estimation\n",
    "\n",
    "By leave-one-out cross validation, the true error can be bounded by: $\\varepsilon_{LOO} \\le \\frac{\\# support \\ vectors}{N}$"
   ]
  },
  {
   "cell_type": "markdown",
   "metadata": {},
   "source": [
    "# for Linear Nonseparable Question"
   ]
  },
  {
   "cell_type": "markdown",
   "metadata": {},
   "source": [
    "## Adding Slack\n",
    "<img src=\"./week4_figure/outlier1.png\" width=\"75%\">\n",
    "\n",
    "<br>For linear separable one: $$(w^TX+b)^TY \\geq 1$$\n",
    "\n",
    "<br>We can make the marginal boundaries more flexible for <b>some of the points</b>: $$(w^Tx_i+b)^Ty_i \\geq 1-\\xi_i,\\ i={1,2,...n}$$\n",
    "\n",
    "or\n",
    "\n",
    "$$(w^TX+b)^TY \\geq 1-\\xi$$\n",
    "\n",
    "<br>slack variable $\\xi$:</br>\n",
    "* large slack variable like (a), $\\xi_i \\ge 1$\n",
    "* small slack variable like (b), $1 > \\xi_i > 0$\n",
    "* no slack variable for the correct points, $\\xi_i = 0$\n",
    "* 软误差(sum of the slack variable. they can be ragarded as a kind of error, as we ingore/misclassify them in order to build our margianl boundaries), $\\sum_i^n \\xi$\n",
    "* panalty, C to constarin the slack\n",
    "\n",
    "<br> new model: \n",
    "$$\n",
    "min \\frac{1}{2}||w||^2+C\\sum_i^n \\xi_i\n",
    "\\\\\n",
    "s.t. (w^TX+b)^TY \\geq 1-\\xi\n",
    "\\\\\n",
    "\\xi_i \\ge 0, \\ for i={1,2,...,n}\n",
    "$$\n",
    "\n",
    "<br> new optimization problem:\n",
    "$$\n",
    "max_{\\alpha} \\sum_{i=1}^n \\alpha_i - \\frac{1}{2} \\sum_{i,j=1}^n \\alpha_i \\alpha_j y_i y_j x_i^T x_j\n",
    "\\\\\n",
    "s.t. 0 \\le \\alpha_i \\le C\n",
    "\\\\\n",
    "\\sum_{j=1}^m \\alpha_i y_i =0\n",
    "$$\n",
    "\n",
    "$$\\to f(X) = w^TX+b = (\\sum_{i=1}^n a_iy_ix_i)^TX + b$$\n",
    "\n",
    "<br>reference: https://blog.csdn.net/guoziqing506/article/details/81120354"
   ]
  },
  {
   "cell_type": "markdown",
   "metadata": {},
   "source": [
    "## Mapping To A Higher Dimenssion\n",
    "\n",
    "![avator](./week4_figure/projection.gif)"
   ]
  },
  {
   "cell_type": "markdown",
   "metadata": {},
   "source": [
    "## Kernal Function\n",
    "\n"
   ]
  },
  {
   "cell_type": "markdown",
   "metadata": {},
   "source": [
    "$$\n",
    "max_{\\alpha} \\sum_{i=1}^n \\alpha_i - \\frac{1}{2} \\sum_{i,j=1}^n \\alpha_i \\alpha_j y_i y_j x_i^T x_j\n",
    "\\\\\n",
    "s.t. 0 \\le \\alpha_i \\le C\n",
    "\\\\\n",
    "\\sum_{j=1}^m \\alpha_i y_i =0\n",
    "$$\n",
    "\n",
    "$$\n",
    "f(z) = \\sum_{i=1}^n a_iy_iK(x_i,z) + b\n",
    "$$\n",
    "\n",
    "<br> brilliant video provided by MIT: </br>\n",
    "<br>https://www.youtube.com/watch?v=_PwhiWxHK8o&ab_channel=MITOpenCourseWare"
   ]
  },
  {
   "cell_type": "code",
   "execution_count": null,
   "metadata": {},
   "outputs": [],
   "source": []
  }
 ],
 "metadata": {
  "kernelspec": {
   "display_name": "Python 3",
   "language": "python",
   "name": "python3"
  },
  "language_info": {
   "codemirror_mode": {
    "name": "ipython",
    "version": 3
   },
   "file_extension": ".py",
   "mimetype": "text/x-python",
   "name": "python",
   "nbconvert_exporter": "python",
   "pygments_lexer": "ipython3",
   "version": "3.7.9"
  },
  "toc": {
   "base_numbering": 1,
   "nav_menu": {},
   "number_sections": true,
   "sideBar": true,
   "skip_h1_title": false,
   "title_cell": "Table of Contents",
   "title_sidebar": "Contents",
   "toc_cell": false,
   "toc_position": {},
   "toc_section_display": true,
   "toc_window_display": false
  },
  "varInspector": {
   "cols": {
    "lenName": 16,
    "lenType": 16,
    "lenVar": 40
   },
   "kernels_config": {
    "python": {
     "delete_cmd_postfix": "",
     "delete_cmd_prefix": "del ",
     "library": "var_list.py",
     "varRefreshCmd": "print(var_dic_list())"
    },
    "r": {
     "delete_cmd_postfix": ") ",
     "delete_cmd_prefix": "rm(",
     "library": "var_list.r",
     "varRefreshCmd": "cat(var_dic_list()) "
    }
   },
   "types_to_exclude": [
    "module",
    "function",
    "builtin_function_or_method",
    "instance",
    "_Feature"
   ],
   "window_display": false
  }
 },
 "nbformat": 4,
 "nbformat_minor": 4
}
