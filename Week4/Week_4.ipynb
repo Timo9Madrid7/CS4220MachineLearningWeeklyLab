{
 "cells": [
  {
   "cell_type": "markdown",
   "metadata": {},
   "source": [
    "# Support Vector Machine For 2-class Linear Separable Question"
   ]
  },
  {
   "cell_type": "markdown",
   "metadata": {},
   "source": [
    "## Decision Boundary\n",
    "\n",
    "for the positive class: $$w^TX + b \\geq 0$$\n",
    "for the negative class: $$w^TX + b < 0$$\n",
    "\n",
    "Problem? There many solutions, and which one should be chosen?"
   ]
  },
  {
   "cell_type": "markdown",
   "metadata": {},
   "source": [
    "## Idea of SVM\n",
    "\n",
    "Core Idea: Find the decision boundary, while maximize the <b>margin</b>\n",
    "\n",
    "Then it will have two boundary, upper boundary and lower boundary\n",
    "\n",
    "for the upper boundary: $$w^TX+b \\geq 1$$\n",
    "for the lower boundary: $$w^TX+b < 1$$\n",
    "They can be merged into one: $$(w^TX+b)^TY \\geq 1$$\n",
    "\n",
    "Then, we have three areas. The negative class is below or on the lower boundary, whereas the positive class is higher or on the upper boundary. And there is an area without any samples (this area should be maximize). The samples on the boundary are called <b>support vector</b>"
   ]
  },
  {
   "cell_type": "markdown",
   "metadata": {},
   "source": [
    "## The Distance Between Two Planes/Lines\n",
    "\n",
    "The distance between the marginal boundary and the decision boundary: $$\\frac{|b-(b-1)|}{\\sqrt{||w||^2}} = \\frac{1}{||w||}$$\n",
    "The distance between the margins: $$\\frac{2}{||w||}$$\n",
    "maximize the above <==> minimize the following: $$\\frac{1}{2}||w||^2$$"
   ]
  },
  {
   "cell_type": "markdown",
   "metadata": {},
   "source": [
    "## Task\n",
    "What we want to do now is finding a decision boundary which owns the largest distance of margins:\n",
    "$$min_{w} \\frac{1}{||w||^2} \\ subject \\ to \\ (w^TX+b)^TY \\geq 1$$"
   ]
  },
  {
   "cell_type": "markdown",
   "metadata": {},
   "source": [
    "## Derivative Task by \"Lagrange Multiplier\"\n",
    "\n",
    "Minimize:\n",
    "$$\\ell(w,a)=\\frac{1}{2}||w||^2 - \\sum_i a_i(y_i(w^Tx_i+b)-1)$$\n",
    "\n",
    "Solve:\n",
    "$$\\frac{\\alpha \\ell(w,a)}{\\alpha w}=0 \\to w = \\sum_i^l a_iy_ix_i, \\ x_i \\in {SV}$$\n",
    "\n",
    "$l$ is the number of support vectors (note: sometimes, you may see $n$ instead of $l$, because $a_i=0$ for the samples not on the marginal boundaries)\n",
    "\n",
    "$a_i$ is the lagrange multipliers"
   ]
  },
  {
   "cell_type": "markdown",
   "metadata": {},
   "source": [
    "## VC Dimension and Bounding True Error\n",
    "\n",
    "VC dimension: https://www.zhihu.com/question/23418822\n",
    "\n",
    "VC for SVC: $$h\\leq min(\\frac{R^2}{\\rho^2},p)+1$$\n",
    "\n",
    "Bounding True Error: silde 31,week4_a, TU Delft CS4220"
   ]
  }
 ],
 "metadata": {
  "kernelspec": {
   "display_name": "Python 3",
   "language": "python",
   "name": "python3"
  },
  "language_info": {
   "codemirror_mode": {
    "name": "ipython",
    "version": 3
   },
   "file_extension": ".py",
   "mimetype": "text/x-python",
   "name": "python",
   "nbconvert_exporter": "python",
   "pygments_lexer": "ipython3",
   "version": "3.7.9"
  },
  "toc": {
   "base_numbering": 1,
   "nav_menu": {},
   "number_sections": true,
   "sideBar": true,
   "skip_h1_title": false,
   "title_cell": "Table of Contents",
   "title_sidebar": "Contents",
   "toc_cell": false,
   "toc_position": {},
   "toc_section_display": true,
   "toc_window_display": false
  },
  "varInspector": {
   "cols": {
    "lenName": 16,
    "lenType": 16,
    "lenVar": 40
   },
   "kernels_config": {
    "python": {
     "delete_cmd_postfix": "",
     "delete_cmd_prefix": "del ",
     "library": "var_list.py",
     "varRefreshCmd": "print(var_dic_list())"
    },
    "r": {
     "delete_cmd_postfix": ") ",
     "delete_cmd_prefix": "rm(",
     "library": "var_list.r",
     "varRefreshCmd": "cat(var_dic_list()) "
    }
   },
   "types_to_exclude": [
    "module",
    "function",
    "builtin_function_or_method",
    "instance",
    "_Feature"
   ],
   "window_display": false
  }
 },
 "nbformat": 4,
 "nbformat_minor": 4
}
